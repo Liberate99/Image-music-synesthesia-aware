{
 "cells": [
  {
   "cell_type": "code",
   "execution_count": 1,
   "metadata": {},
   "outputs": [
    {
     "name": "stderr",
     "output_type": "stream",
     "text": [
      "Using TensorFlow backend.\n"
     ]
    },
    {
     "name": "stdout",
     "output_type": "stream",
     "text": [
      "hello tensorflow\n"
     ]
    }
   ],
   "source": [
    "import tensorflow as tf\n",
    "\n",
    "import keras\n",
    "\n",
    "import numpy as np # linear algebra\n",
    "import pandas as pd # data processing, CSV file I/O (e.g. pd.read_csv)\n",
    "import numpy as np\n",
    "import os\n",
    "import shutil\n",
    "import sklearn\n",
    "import cv2\n",
    "import csv\n",
    "#import image\n",
    "\n",
    "from skimage.io import imread\n",
    "from PIL import Image\n",
    "import matplotlib.image as mpimg\n",
    "\n",
    "# PCA 主成分分析\n",
    "from sklearn.decomposition import PCA\n",
    "\n",
    "\n",
    "print(\"hello tensorflow\")"
   ]
  },
  {
   "cell_type": "code",
   "execution_count": 2,
   "metadata": {},
   "outputs": [
    {
     "data": {
      "text/plain": [
       "['25wpearson-n.csv', 'file.zip', 'image', 'pearson.xlsx', 'processedData.csv']"
      ]
     },
     "execution_count": 2,
     "metadata": {},
     "output_type": "execute_result"
    }
   ],
   "source": [
    "os.listdir(\"../../emotionData/\")\n"
   ]
  },
  {
   "cell_type": "code",
   "execution_count": 12,
   "metadata": {},
   "outputs": [
    {
     "name": "stdout",
     "output_type": "stream",
     "text": [
      "(250000, 129)\n"
     ]
    }
   ],
   "source": [
    "csv_data = pd.read_csv(open('../../emotionData/25wpearson-n.csv',encoding='utf-8'))\n",
    "print(csv_data.shape)\n"
   ]
  },
  {
   "cell_type": "code",
   "execution_count": 14,
   "metadata": {},
   "outputs": [
    {
     "name": "stdout",
     "output_type": "stream",
     "text": [
      "         1    2    3         4         5    6    7         8         9   10  \\\n",
      "0  0.00001  0.0  0.0  0.000017  0.000292  0.0  0.0  0.000064  0.000566  0.0   \n",
      "\n",
      "   ...       120       121       122       123       124       125       126  \\\n",
      "0  ...  0.089409  0.099221  0.090073  0.082055  0.088065  0.105442  0.085996   \n",
      "\n",
      "        127       128       129  \n",
      "0  0.079009  0.085053  0.384697  \n",
      "\n",
      "[1 rows x 129 columns]\n"
     ]
    }
   ],
   "source": [
    "print(csv_data[:1])"
   ]
  },
  {
   "cell_type": "code",
   "execution_count": 8,
   "metadata": {},
   "outputs": [
    {
     "ename": "SyntaxError",
     "evalue": "unexpected EOF while parsing (<ipython-input-8-6fef509070c6>, line 3)",
     "output_type": "error",
     "traceback": [
      "\u001b[1;36m  File \u001b[1;32m\"<ipython-input-8-6fef509070c6>\"\u001b[1;36m, line \u001b[1;32m3\u001b[0m\n\u001b[1;33m    print(train_data.shape\u001b[0m\n\u001b[1;37m                          ^\u001b[0m\n\u001b[1;31mSyntaxError\u001b[0m\u001b[1;31m:\u001b[0m unexpected EOF while parsing\n"
     ]
    }
   ],
   "source": [
    "N = 200000\n",
    "train_data = csv_reader.tail(N)  # 取后200,000条数据\n",
    "print(train_data.shape)"
   ]
  },
  {
   "cell_type": "code",
   "execution_count": null,
   "metadata": {},
   "outputs": [],
   "source": [
    "\n",
    "for row in csv_reader:\n",
    "    print(row)"
   ]
  }
 ],
 "metadata": {
  "kernelspec": {
   "display_name": "Python 3",
   "language": "python",
   "name": "python3"
  },
  "language_info": {
   "codemirror_mode": {
    "name": "ipython",
    "version": 3
   },
   "file_extension": ".py",
   "mimetype": "text/x-python",
   "name": "python",
   "nbconvert_exporter": "python",
   "pygments_lexer": "ipython3",
   "version": "3.7.3"
  }
 },
 "nbformat": 4,
 "nbformat_minor": 2
}

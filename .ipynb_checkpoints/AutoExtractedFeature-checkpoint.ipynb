{
 "cells": [
  {
   "cell_type": "markdown",
   "metadata": {},
   "source": [
    "# 尝试自动提取特征"
   ]
  },
  {
   "cell_type": "code",
   "execution_count": 13,
   "metadata": {},
   "outputs": [
    {
     "name": "stdout",
     "output_type": "stream",
     "text": [
      "hello tensorflow\n"
     ]
    }
   ],
   "source": [
    "import tensorflow as tf\n",
    "import keras\n",
    "import numpy as np # linear algebra\n",
    "import pandas as pd # data processing, CSV file I/O (e.g. pd.read_csv)\n",
    "import numpy as np\n",
    "import os\n",
    "import shutil\n",
    "import sklearn\n",
    "import cv2\n",
    "import csv\n",
    "import math\n",
    "#import image\n",
    "from skimage.io import imread\n",
    "from PIL import Image\n",
    "import matplotlib.image as mpimg\n",
    "#导入图表库\n",
    "import matplotlib.pyplot as plt\n",
    "from keras import models\n",
    "from keras import layers\n",
    "from keras.layers import Dense\n",
    "from keras.models import Sequential\n",
    "from keras.preprocessing.image import ImageDataGenerator\n",
    "\n",
    "from keras.wrappers.scikit_learn import KerasRegressor\n",
    "from sklearn.model_selection import cross_val_score\n",
    "from sklearn.pipeline import Pipeline\n",
    "from sklearn.preprocessing import StandardScaler\n",
    "from sklearn.model_selection import KFold\n",
    "from keras.utils import plot_model\n",
    "# PCA 主成分分析\n",
    "from sklearn.decomposition import PCA\n",
    "from keras.callbacks import TensorBoard\n",
    "print(\"hello tensorflow\")"
   ]
  },
  {
   "cell_type": "markdown",
   "metadata": {},
   "source": [
    "##  图像特征提取"
   ]
  },
  {
   "cell_type": "markdown",
   "metadata": {},
   "source": [
    "### 数据提升"
   ]
  },
  {
   "cell_type": "code",
   "execution_count": 14,
   "metadata": {},
   "outputs": [],
   "source": [
    "process_datagen = ImageDataGenerator(\n",
    "    # 重放缩因子,默认为None. 如果为None或0则不进行放缩,否则会将该数值乘到数据上(在应用其他变换之前)\n",
    "    rescale=1./255,\n",
    "    # 整数，数据提升时图片随机转动的角度\n",
    "    rotation_range=40,\n",
    "    # 浮点数，图片宽度的某个比例，数据提升时图片水平偏移的幅度\n",
    "    width_shift_range=0.2,\n",
    "    # 浮点数，图片高度的某个比例，数据提升时图片竖直偏移的幅度\n",
    "    height_shift_range=0.2,\n",
    "    # 浮点数，剪切强度（逆时针方向的剪切变换角度）\n",
    "    shear_range=0.2,\n",
    "    # 浮点数或形如[lower,upper]的列表，随机缩放的幅度，若为浮点数，则相当于[lower,upper] = [1 - zoom_range, 1+zoom_range]\n",
    "    zoom_range=0.2,\n",
    "    # 布尔值，进行随机水平翻转\n",
    "    horizontal_flip=True\n",
    ")\n",
    "#test_datagen = ImageDataGenerator(rescale=1./255)"
   ]
  },
  {
   "cell_type": "markdown",
   "metadata": {},
   "source": [
    "### 数据导入"
   ]
  },
  {
   "cell_type": "code",
   "execution_count": null,
   "metadata": {},
   "outputs": [],
   "source": [
    "imagesDir = '../../emotionData/image/'\n",
    "\n",
    "# 以文件夹路径为参数,生成经过数据提升/归一化后的数据,在一个无限循环中无限产生batch数据\n",
    "process_generator = process_datagen.flow_from_directory(\n",
    "    # 目标文件夹路径,对于每一个类,该文件夹都要包含一个子文件夹.子文件夹中任何JPG、PNG、BNP、PPM的图片都会被生成器使用.\n",
    "    imagesDir,\n",
    "    # 整数tuple,默认为(256, 256). 图像将被resize成该尺寸\n",
    "    target_size=(200, 200),\n",
    "    # \"categorical\", \"binary\", \"sparse\" 或None之一. 默认为\"categorical.该参数决定了返回的标签数组的形式, \n",
    "    # \"categorical\" 会返回2D的one-hot编码标签,\n",
    "    # \"binary\" 返回1D的二值标签.\n",
    "    # \"sparse\" 返回1D的整数标签\n",
    "    # 如果为None则不返回任何标签, 生成器将仅仅生成batch数据, 这种情况在使用model.predict_generator()和model.evaluate_generator()等函数时会用到.\n",
    "    class_mode='None',\n",
    "    # batch数据的大小,默认32\n",
    "    batch_size=124\n",
    ")\n",
    "\n",
    "#test_generator = test_datagen.flow_from_directory(\n",
    "#    test_dir,\n",
    "#    target_size=(200, 200),\n",
    "#    batch_size=20,\n",
    "#    class_mode='None'\n",
    "#)"
   ]
  },
  {
   "cell_type": "markdown",
   "metadata": {},
   "source": [
    "## 音频特征提取"
   ]
  },
  {
   "cell_type": "markdown",
   "metadata": {},
   "source": [
    "## 特征融合"
   ]
  },
  {
   "cell_type": "markdown",
   "metadata": {},
   "source": [
    "## 训练模型"
   ]
  },
  {
   "cell_type": "markdown",
   "metadata": {},
   "source": [
    "#### 定义模型"
   ]
  },
  {
   "cell_type": "markdown",
   "metadata": {},
   "source": [
    "#### 训练"
   ]
  },
  {
   "cell_type": "markdown",
   "metadata": {},
   "source": [
    "## 预测"
   ]
  },
  {
   "cell_type": "markdown",
   "metadata": {},
   "source": [
    "## 计算均方差"
   ]
  },
  {
   "cell_type": "code",
   "execution_count": null,
   "metadata": {},
   "outputs": [],
   "source": []
  }
 ],
 "metadata": {
  "kernelspec": {
   "display_name": "Python 3",
   "language": "python",
   "name": "python3"
  },
  "language_info": {
   "codemirror_mode": {
    "name": "ipython",
    "version": 3
   },
   "file_extension": ".py",
   "mimetype": "text/x-python",
   "name": "python",
   "nbconvert_exporter": "python",
   "pygments_lexer": "ipython3",
   "version": "3.7.3"
  }
 },
 "nbformat": 4,
 "nbformat_minor": 2
}

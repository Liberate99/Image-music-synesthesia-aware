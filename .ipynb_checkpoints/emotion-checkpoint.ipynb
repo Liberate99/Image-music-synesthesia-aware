{
 "cells": [
  {
   "cell_type": "code",
   "execution_count": 2,
   "metadata": {},
   "outputs": [
    {
     "name": "stderr",
     "output_type": "stream",
     "text": [
      "Using TensorFlow backend.\n"
     ]
    },
    {
     "name": "stdout",
     "output_type": "stream",
     "text": [
      "hello tensorflow\n"
     ]
    }
   ],
   "source": [
    "import tensorflow as tf\n",
    "\n",
    "import keras\n",
    "\n",
    "import numpy as np # linear algebra\n",
    "import pandas as pd # data processing, CSV file I/O (e.g. pd.read_csv)\n",
    "import numpy as np\n",
    "import os\n",
    "import shutil\n",
    "import sklearn\n",
    "import cv2\n",
    "import csv\n",
    "#import image\n",
    "\n",
    "from skimage.io import imread\n",
    "from PIL import Image\n",
    "import matplotlib.image as mpimg\n",
    "from sklearn.model_selection import KFold\n",
    "\n",
    "\n",
    "# PCA 主成分分析\n",
    "from sklearn.decomposition import PCA\n",
    "\n",
    "\n",
    "print(\"hello tensorflow\")"
   ]
  },
  {
   "cell_type": "code",
   "execution_count": 3,
   "metadata": {},
   "outputs": [],
   "source": [
    "# os.listdir(\"../../emotionData/\")"
   ]
  },
  {
   "cell_type": "markdown",
   "metadata": {},
   "source": [
    "##  划分数据集\n",
    "\n",
    "前 200000 训练数据集\n",
    "后  50000 测试数据集"
   ]
  },
  {
   "cell_type": "code",
   "execution_count": 4,
   "metadata": {},
   "outputs": [],
   "source": [
    "# N_train_samples = 200000\n",
    "# train_data = csv_data.head(N_train_samples)\n",
    "# print(train_data)\n",
    "# train_data.to_csv(\"../../emotionData/data/train_data_write.csv\",index=None)"
   ]
  },
  {
   "cell_type": "code",
   "execution_count": 8,
   "metadata": {
    "scrolled": true
   },
   "outputs": [
    {
     "name": "stdout",
     "output_type": "stream",
     "text": [
      "train data shape:    (200000, 128)\n",
      "train label shape:   (200000, 1)\n"
     ]
    }
   ],
   "source": [
    "X_train = pd.read_csv(open(\"../../emotionData/data/train/train_data.csv\",encoding='utf-8'))\n",
    "y_train = pd.read_csv(open(\"../../emotionData/data/train/train_label.csv\",encoding='utf-8'))\n",
    "print(\"train data shape:   \",X_train.shape)\n",
    "print(\"train label shape:  \",y_train.shape)"
   ]
  },
  {
   "cell_type": "code",
   "execution_count": 6,
   "metadata": {},
   "outputs": [],
   "source": [
    "# test = pd.read_csv(open(\"../../emotionData/data/test/test_data_.csv\",encoding='utf-8'))\n",
    "# N_test_samples = 50000\n",
    "# test_data = test.tail(N_test_samples)\n",
    "# print(test_data)\n",
    "# test_data.to_csv(\"../../emotionData/data/test/test_data.csv\",index=None)"
   ]
  },
  {
   "cell_type": "code",
   "execution_count": 9,
   "metadata": {},
   "outputs": [
    {
     "name": "stdout",
     "output_type": "stream",
     "text": [
      "test data shape:    (49999, 128)\n",
      "test label shape:   (49999, 1)\n"
     ]
    }
   ],
   "source": [
    "X_test = pd.read_csv(open(\"../../emotionData/data/test/test_data.csv\",encoding='utf-8'))\n",
    "y_test = pd.read_csv(open(\"../../emotionData/data/test/test_label.csv\",encoding='utf-8'))\n",
    "print(\"test data shape:   \",X_test.shape)\n",
    "print(\"test label shape:  \",y_test.shape)"
   ]
  },
  {
   "cell_type": "markdown",
   "metadata": {},
   "source": [
    "## 准备数据\n",
    "\n",
    "对数据进行归一化"
   ]
  },
  {
   "cell_type": "code",
   "execution_count": null,
   "metadata": {},
   "outputs": [],
   "source": []
  },
  {
   "cell_type": "code",
   "execution_count": null,
   "metadata": {},
   "outputs": [],
   "source": []
  }
 ],
 "metadata": {
  "kernelspec": {
   "display_name": "Python 3",
   "language": "python",
   "name": "python3"
  },
  "language_info": {
   "codemirror_mode": {
    "name": "ipython",
    "version": 3
   },
   "file_extension": ".py",
   "mimetype": "text/x-python",
   "name": "python",
   "nbconvert_exporter": "python",
   "pygments_lexer": "ipython3",
   "version": "3.7.3"
  }
 },
 "nbformat": 4,
 "nbformat_minor": 2
}
